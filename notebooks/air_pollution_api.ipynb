{
 "cells": [
  {
   "cell_type": "code",
   "execution_count": 13,
   "metadata": {},
   "outputs": [],
   "source": [
    "import pandas as pd\n",
    "import matplotlib.pyplot as plt\n",
    "import datetime\n",
    "import numpy as np\n",
    "import requests\n",
    "import time\n",
    "from scipy.stats import linregress\n",
    "from ydata_profiling import ProfileReport\n",
    "from pathlib import Path\n",
    "\n",
    "# Import the OpenWeatherMap API key\n",
    "from api_keys import airpollution_api_key \n",
    "\n",
    "\n",
    "# Import citipy to determine the cities based on latitude and longitude\n",
    "from citipy import citipy\n",
    "\n",
    "\n"
   ]
  },
  {
   "cell_type": "code",
   "execution_count": 14,
   "metadata": {},
   "outputs": [
    {
     "name": "stdout",
     "output_type": "stream",
     "text": [
      "{'coord': {'lon': -118.2, 'lat': 33.92}, 'list': [{'main': {'aqi': 3}, 'components': {'co': 934.6, 'no': 65.27, 'no2': 81.57, 'o3': 1.36, 'so2': 10.01, 'pm2_5': 29.01, 'pm10': 39.88, 'nh3': 5.7}, 'dt': 1713108354}]}\n"
     ]
    }
   ],
   "source": [
    "url = f\"http://api.openweathermap.org/data/2.5/air_pollution?lat=33.9239616867&lon=-118.201648375&appid={airpollution_api_key}\"\n",
    "airpollution_data = requests.get(url).json()\n",
    "print(airpollution_data)"
   ]
  },
  {
   "cell_type": "code",
   "execution_count": 17,
   "metadata": {},
   "outputs": [
    {
     "name": "stdout",
     "output_type": "stream",
     "text": [
      "[{'name': 'Lynwood', 'lat': 33.924831, 'lon': -118.2024154, 'country': 'US', 'state': 'California'}]\n"
     ]
    }
   ],
   "source": [
    "city_url = f\"http://api.openweathermap.org/geo/1.0/direct?q=Lynwood&appid={airpollution_api_key}\"\n",
    "cityap_data = requests.get(city_url).json()\n",
    "print(cityap_data)"
   ]
  }
 ],
 "metadata": {
  "kernelspec": {
   "display_name": "dev",
   "language": "python",
   "name": "python3"
  },
  "language_info": {
   "codemirror_mode": {
    "name": "ipython",
    "version": 3
   },
   "file_extension": ".py",
   "mimetype": "text/x-python",
   "name": "python",
   "nbconvert_exporter": "python",
   "pygments_lexer": "ipython3",
   "version": "3.10.13"
  }
 },
 "nbformat": 4,
 "nbformat_minor": 2
}
